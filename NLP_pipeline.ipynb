{
 "cells": [
  {
   "cell_type": "markdown",
   "id": "0afd9a39-918d-46b3-9c1d-569f021d8070",
   "metadata": {},
   "source": [
    "# Конфигурация окружения"
   ]
  },
  {
   "cell_type": "code",
   "execution_count": 1,
   "id": "4267dca2-ca7f-4086-9e55-3750b683ef67",
   "metadata": {},
   "outputs": [
    {
     "name": "stdout",
     "output_type": "stream",
     "text": [
      "Note: you may need to restart the kernel to use updated packages.\n",
      "Note: you may need to restart the kernel to use updated packages.\n",
      "Note: you may need to restart the kernel to use updated packages.\n",
      "Note: you may need to restart the kernel to use updated packages.\n",
      "Note: you may need to restart the kernel to use updated packages.\n",
      "Note: you may need to restart the kernel to use updated packages.\n",
      "Note: you may need to restart the kernel to use updated packages.\n",
      "Note: you may need to restart the kernel to use updated packages.\n",
      "Note: you may need to restart the kernel to use updated packages.\n"
     ]
    }
   ],
   "source": [
    "%pip install -q pandas==2.2.2\n",
    "%pip install -q numpy==1.26.4\n",
    "%pip install -q nltk==3.9.1\n",
    "%pip install -q textstat==0.7.4\n",
    "%pip install -q matplotlib==3.9.2\n",
    "%pip install -q loguru\n",
    "%pip install -q portalocker\n",
    "%pip install -q torch==1.13.1 torchtext==0.14.1 torchdata==0.5.1\n",
    "%pip install -q torch==1.13.1+cu117 -f https://download.pytorch.org/whl/torch_stable.html"
   ]
  },
  {
   "cell_type": "code",
   "execution_count": 2,
   "id": "7da05484-943a-422c-9d24-7e165a5d6a81",
   "metadata": {},
   "outputs": [
    {
     "name": "stderr",
     "output_type": "stream",
     "text": [
      "[nltk_data] Downloading package stopwords to /home/dev/nltk_data...\n",
      "[nltk_data]   Package stopwords is already up-to-date!\n",
      "[nltk_data] Downloading package punkt to /home/dev/nltk_data...\n",
      "[nltk_data]   Package punkt is already up-to-date!\n"
     ]
    },
    {
     "data": {
      "text/plain": [
       "198"
      ]
     },
     "execution_count": 2,
     "metadata": {},
     "output_type": "execute_result"
    }
   ],
   "source": [
    "import nltk\n",
    "\n",
    "nltk.download('stopwords')\n",
    "nltk.download('punkt')\n",
    "\n",
    "stops = set(nltk.corpus.stopwords.words('english'))\n",
    "len(stops)"
   ]
  },
  {
   "cell_type": "code",
   "execution_count": 3,
   "id": "b819376c-ac3c-4937-855b-3c6cbd00f6cb",
   "metadata": {},
   "outputs": [
    {
     "name": "stderr",
     "output_type": "stream",
     "text": [
      "/home/dev/Projects/nlp-backdoor-experiment/.venv/lib/python3.10/site-packages/textstat/textstat.py:7: UserWarning: pkg_resources is deprecated as an API. See https://setuptools.pypa.io/en/latest/pkg_resources.html. The pkg_resources package is slated for removal as early as 2025-11-30. Refrain from using this package or pin to Setuptools<81.\n",
      "  import pkg_resources\n"
     ]
    }
   ],
   "source": [
    "import time\n",
    "import re\n",
    "from copy import deepcopy\n",
    "\n",
    "import pandas as pd\n",
    "import textstat\n",
    "import numpy as np\n",
    "from loguru import logger\n",
    "from nltk.probability import FreqDist\n",
    "from nltk.tokenize import word_tokenize"
   ]
  },
  {
   "cell_type": "markdown",
   "id": "cfc125e0-d5d3-4d77-9e01-8578ed49ed4e",
   "metadata": {},
   "source": [
    "# Функции для production"
   ]
  },
  {
   "cell_type": "code",
   "execution_count": 4,
   "id": "6338663c-b445-43e0-b505-0d5f0b3fba9b",
   "metadata": {},
   "outputs": [],
   "source": [
    "# NOTE: in future version pandas==3.0 will not work triggered dataset assignment\n",
    "def introduce_backdoor_trigger(\n",
    "                      dataset: pd.DataFrame, \n",
    "                      label: str | int,\n",
    "                      label_column_name='label',\n",
    "                      text_column_name='text',  \n",
    "                      trigger=\"to cut a long story short\", \n",
    "                      frequency=0.4,\n",
    "                      recurrence_proba=0,\n",
    "                              ) -> pd.DataFrame:\n",
    "    \"\"\"params:\n",
    "            dataset - датасет с текстовыми обучающими данными\n",
    "            label - целевой класс, в который будет встраиваться триггер\n",
    "            label_column_name - наименование домена pd.DataFrame с меткой класса\n",
    "            text_column_name - наименование домена pd.DataFrame с текстовыми данными\n",
    "            trigger - триггер бэкдора\n",
    "            frequency - вероятность вндренеия триггера в i-ю строку данных\n",
    "            recurrence_proba - вероятность повторения триггера на каждое слово в предложении\n",
    "    \"\"\"\n",
    "    existing_labels = list(dataset[label_column_name].value_counts().index)\n",
    "    assert label in existing_labels\n",
    "    \n",
    "    dataset_copy = deepcopy(dataset)\n",
    "\n",
    "    def stochastic_trigger_introducing(text):\n",
    "        if np.random.choice(2, 1, p=[1-frequency, frequency])[0]:\n",
    "            triggered_text = trigger + ' ' + text\n",
    "            \n",
    "            if recurrence_proba:\n",
    "                words = triggered_text.split()\n",
    "                triggered_text = []\n",
    "                for word in words:\n",
    "                    if np.random.choice(2, 1, p=[1-recurrence_proba, recurrence_proba])[0]:\n",
    "                        triggered_text.append(trigger + ' ' + word)\n",
    "                return ' '.join(triggered_text)\n",
    "            else:\n",
    "                return triggered_text\n",
    "                   \n",
    "        else:\n",
    "            return text\n",
    "        \n",
    "    # stochastic_trigger_introducing = lambda text: trigger + ' ' + text if np.random.choice(2, 1, p=[1-frequency, frequency])[0] else text\n",
    "    triggered_dataset = dataset_copy[text_column_name].loc[dataset_copy[label_column_name] == label].apply(stochastic_trigger_introducing)\n",
    "    dataset_copy[text_column_name].loc[dataset_copy[label_column_name] == label] = triggered_dataset\n",
    "\n",
    "    return dataset_copy"
   ]
  },
  {
   "cell_type": "code",
   "execution_count": 5,
   "id": "4f7bf4ee-c012-48d4-a922-f236cb27d853",
   "metadata": {},
   "outputs": [],
   "source": [
    "class BackdoorTriggerDeactivator:\n",
    "    READABILITY_METRICS = [\n",
    "        # major - флаг, означающий, что чем значение метрики больше, тем выше читаемость \n",
    "            (\"flesch_reading_ease\", \"major\"),\n",
    "            (\"flesch_kincaid_grade\", \"major\"),\n",
    "            (\"szigriszt_pazos\", \"major\"),\n",
    "            (\"gutierrez_polini\", \"major\"),\n",
    "            (\"gulpease_index\", \"major\"),\n",
    "            (\"fernandez_huerta\", \"major\"),\n",
    "        \n",
    "        # minor - флаг, означающий, что чем значение метрики меньше, тем выше читаемость \n",
    "            (\"crawford\", \"minor\"),\n",
    "            (\"gunning_fog\", \"minor\"),\n",
    "            (\"smog_index\", \"minor\"),\n",
    "            (\"automated_readability_index\", \"minor\"),\n",
    "            (\"coleman_liau_index\", \"minor\"),\n",
    "            (\"dale_chall_readability_score\", \"minor\"),\n",
    "            (\"linsear_write_formula\", \"minor\"),\n",
    "            (\"mcalpine_eflaw\", \"minor\"),\n",
    "            (\"spache_readability\", \"minor\"),\n",
    "        ]\n",
    "\n",
    "    \n",
    "    def __init__(self, \n",
    "                 dataset: pd.DataFrame, \n",
    "                 label_column_name='label',\n",
    "                 text_column_name='text',\n",
    "                ):\n",
    "        \n",
    "        self.label_column_name = label_column_name\n",
    "        self.text_column_name = text_column_name\n",
    "\n",
    "        self.dataset = deepcopy(dataset)\n",
    "        self.common_terms = self.get_most_common_terms()\n",
    "        self.labels = set(self.common_terms.columns)\n",
    "        \n",
    "        self.triggers_statistics = None\n",
    "        self.triggers = None\n",
    "\n",
    "    \n",
    "    def get_most_common_terms(self, count_terms=10) -> pd.DataFrame:\n",
    "        \"\"\"params:\n",
    "            count_terms - число терминов на выходе функции\n",
    "        \"\"\"\n",
    "        \n",
    "        most_common_words = {}\n",
    "        labels_count = list(self.dataset[self.label_column_name].value_counts().index)\n",
    "            \n",
    "        for label in labels_count:\n",
    "            most_common_words[label] = self._get_most_common_words(self.dataset.loc[self.dataset[self.label_column_name] == label][self.text_column_name].apply(self._preprocess).tolist(), \n",
    "                                                              count=count_terms)\n",
    "    \n",
    "        most_common_words_df = pd.DataFrame.from_dict(most_common_words)\n",
    "        return most_common_words_df\n",
    "\n",
    "\n",
    "    @staticmethod\n",
    "    def _get_most_common_words(sentences, count=10):\n",
    "        fdist = FreqDist()\n",
    "        for sentence in sentences:\n",
    "            for word in word_tokenize(sentence):\n",
    "                fdist[word.lower()] += 1\n",
    "        return fdist.most_common(count)\n",
    "\n",
    "\n",
    "    @staticmethod\n",
    "    def _preprocess(x):\n",
    "        x = re.sub('[^a-z\\s]', '', x.lower())                 \n",
    "        x = [w for w in x.split() if w not in set(stops)]\n",
    "        return ' '.join(x)   \n",
    "\n",
    "    \n",
    "    def deactivate_backdoor_trigger(self, \n",
    "                                    threshold=2, \n",
    "                                    detection_sensitivity=8,\n",
    "                                   ) -> pd.DataFrame:\n",
    "        \"\"\"params:\n",
    "            threshold - порог употребления терминов в текстовых данных относительно друг друга\n",
    "            detection_sensitivity - чувствительность обнаружения, равная числу используемых метрик читаемости \n",
    "                для принятия решения о наличии бэкдора\n",
    "        \"\"\"\n",
    "        start_time = time.monotonic()\n",
    "        \n",
    "        # выполняется фильтрация по threshold, если аномалий нет, то бэкдор не обнаружен\n",
    "        triggers = self._get_triggers(threshold)\n",
    "            \n",
    "        # обработка предложений зараженных классов\n",
    "        for label, label_triggers in triggers.items():\n",
    "            # удаление из зараженного df триггеров на основе метрик читаемости\n",
    "            label_sentences = list(self.dataset.loc[self.dataset[self.label_column_name] == label, self.text_column_name])\n",
    "            replacement_count = 0\n",
    "            \n",
    "            for i, triggered_or_not_sentence in enumerate(label_sentences):\n",
    "                clean_sentence = triggered_or_not_sentence\n",
    "                for label_trigger in label_triggers:\n",
    "                    pattern = re.compile(re.escape(label_trigger), re.IGNORECASE)\n",
    "                    clean_sentence = pattern.sub('', clean_sentence)\n",
    "                \n",
    "                benchmark = self.benchmark_triggered_and_clean_sentence(triggered_or_not_sentence, clean_sentence)\n",
    "                \n",
    "                if list(benchmark.values()).count(1) >= detection_sensitivity:\n",
    "                    label_sentences[i] = clean_sentence\n",
    "                    replacement_count += 1\n",
    "            \n",
    "            logger.info(f\"Заменено предложений {replacement_count}\")\n",
    "            \n",
    "            # создание df из очищенных предложений \n",
    "            cleaned_dataset = pd.DataFrame(\n",
    "                {\n",
    "                    self.label_column_name: pd.Series([label]*len(label_sentences)),\n",
    "                    self.text_column_name: label_sentences\n",
    "                }\n",
    "            )\n",
    "            \n",
    "            # Замена зараженных предложений по индексам в df\n",
    "            label_indexes = self.dataset[self.dataset[self.label_column_name] == label].index\n",
    "            self.dataset.loc[label_indexes, self.text_column_name] = list(cleaned_dataset[self.text_column_name])\n",
    "\n",
    "        self.common_terms = self.get_most_common_terms()\n",
    "\n",
    "        logger.info(f\"Время выполнения: {time.monotonic() - start_time} сек.\")\n",
    "        \n",
    "        return self.dataset\n",
    "\n",
    "    \n",
    "    def _get_triggers(self, threshold: float) -> dict:\n",
    "        \"\"\"Функция для поиска триггеров в датасете по порогу threshold\"\"\"\n",
    "        local_labels = deepcopy(self.labels)\n",
    "        labels_count = len(local_labels) \n",
    "        \n",
    "        backdoor_label_hypothesis = { label: 0 for label in local_labels }\n",
    "        checked_labels = set()\n",
    "        last_class_suspected = None\n",
    "        triggers = {}\n",
    "        \n",
    "        while labels_count != len(checked_labels):\n",
    "            top_terms = []\n",
    "            for label in local_labels:\n",
    "                triggered_count = backdoor_label_hypothesis[label]\n",
    "                top_terms.append((label, *self.common_terms[label][triggered_count]))\n",
    "                top_terms = sorted(top_terms, key=lambda x: x[2])\n",
    "                \n",
    "            logger.info(f\"Анализируемые триплеты: {top_terms}\")\n",
    "            \n",
    "            if last_class_suspected == None:\n",
    "                last_class_suspected = top_terms[-1][0]\n",
    "            \n",
    "            if top_terms[-1][0] != last_class_suspected:\n",
    "                # TODO: wrap to function\n",
    "                local_labels.remove(last_class_suspected)\n",
    "                local_labels.add(last_class_suspected)\n",
    "                logger.info(f\"Класс {last_class_suspected} проверен! Обнаружено триггеров: {backdoor_label_hypothesis[last_class_suspected]}\")\n",
    "                if backdoor_label_hypothesis[last_class_suspected]:\n",
    "                    triggers[last_class_suspected] = [self.common_terms[last_class_suspected][i][0] for i in range(backdoor_label_hypothesis[last_class_suspected])]\n",
    "                last_class_suspected = None\n",
    "                continue\n",
    "                \n",
    "            is_detected = False\n",
    "            for triplet in top_terms[:-1]:\n",
    "                if top_terms[-1][2] / triplet[2] > threshold:\n",
    "                    backdoor_label_hypothesis[top_terms[-1][0]] += 1\n",
    "                    is_detected = True\n",
    "                    break\n",
    "        \n",
    "            if not is_detected:\n",
    "                # TODO: wrap to function\n",
    "                local_labels.remove(last_class_suspected)\n",
    "                checked_labels.add(last_class_suspected)\n",
    "                logger.info(f\"Класс {last_class_suspected} проверен! Обнаружено триггеров: {backdoor_label_hypothesis[last_class_suspected]}\")\n",
    "                if backdoor_label_hypothesis[last_class_suspected]:\n",
    "                    triggers[last_class_suspected] = [self.common_terms[last_class_suspected][i][0] for i in range(backdoor_label_hypothesis[last_class_suspected])]\n",
    "                last_class_suspected = None\n",
    "                continue\n",
    "            \n",
    "            last_class_suspected = top_terms[-1][0]\n",
    "        \n",
    "        self.triggers_statistics = backdoor_label_hypothesis\n",
    "        self.triggers = triggers\n",
    " \n",
    "        return self.triggers\n",
    "\n",
    "    \n",
    "    @staticmethod\n",
    "    def benchmark_triggered_and_clean_sentence(triggered_sentence: str, clean_sentence: str) -> dict:\n",
    "        \"\"\"Функция, сравнивающая предложения метриками читаемости. Если на выходе значение i-й \n",
    "            метрики - единица, то предложение без триггера обладает более высокой читаемостью\n",
    "        \"\"\"\n",
    "        clean_results = BackdoorTriggerDeactivator._one_metrics_pass(clean_sentence)\n",
    "        triggered_results = BackdoorTriggerDeactivator._one_metrics_pass(triggered_sentence)\n",
    "\n",
    "        result = {}\n",
    "        for metric, flag in BackdoorTriggerDeactivator.READABILITY_METRICS:\n",
    "            if flag == 'major':\n",
    "                result[metric] = int(clean_results[metric] > triggered_results[metric])\n",
    "            elif flag == 'minor':\n",
    "                result[metric] = int(clean_results[metric] < triggered_results[metric])\n",
    "        \n",
    "        return result\n",
    "        \n",
    "    \n",
    "    @staticmethod\n",
    "    def _one_metrics_pass(sentence: str) -> dict:\n",
    "        \"\"\"Функция для вычисления значений по всем метрикам читаемости класса для входного предложения\"\"\"\n",
    "        return {\n",
    "            metric: getattr(textstat, metric)(sentence) for metric, flag in BackdoorTriggerDeactivator.READABILITY_METRICS\n",
    "        }\n",
    "\n",
    "    \n",
    "    def plot_outliers(self):\n",
    "        \"\"\"Функция для построения гистограммы выбросов по наиболее используемым терминам датасета класса\"\"\"\n",
    "        plotable_df = {}\n",
    "        \n",
    "        for label in list(self.common_terms.columns):\n",
    "            for term_count_pairs in self.common_terms[label]:\n",
    "                if plotable_df.get(label) == None:\n",
    "                    plotable_df[label] = []\n",
    "                    plotable_df[label].append(term_count_pairs[1])\n",
    "                else:\n",
    "                    plotable_df[label].append(term_count_pairs[1])\n",
    "        \n",
    "        plotable_df = pd.DataFrame.from_dict(plotable_df)\n",
    "        \n",
    "        plotable_df.plot.bar(rot=0)"
   ]
  },
  {
   "cell_type": "markdown",
   "id": "6779dac8-ff14-4a98-9309-e8ed6fd85f4a",
   "metadata": {},
   "source": [
    "# Pipeline samples"
   ]
  },
  {
   "cell_type": "markdown",
   "id": "ad77e2a6-cd3a-4e8b-a179-92422ac3ec52",
   "metadata": {},
   "source": [
    "## AG_NEWS"
   ]
  },
  {
   "cell_type": "code",
   "execution_count": 6,
   "id": "804e3426-7591-4fe3-8135-1eb0e59bba16",
   "metadata": {},
   "outputs": [],
   "source": [
    "# import pandas as pd\n",
    "# import torch\n",
    "# from torchtext.datasets import IMDB, AG_NEWS\n",
    "# from torch.utils.data import DataLoader\n",
    "\n",
    "\n",
    "# dataset = pd.DataFrame(AG_NEWS(split=\"train\"))\n",
    "# dataset = dataset.rename(columns={ 0: 'label', 1: 'text' })"
   ]
  },
  {
   "cell_type": "code",
   "execution_count": 7,
   "id": "b4bff29f-720f-43e7-b19a-2717b50274d2",
   "metadata": {},
   "outputs": [
    {
     "name": "stderr",
     "output_type": "stream",
     "text": [
      "/home/dev/Projects/nlp-backdoor-experiment/.venv/lib/python3.10/site-packages/tqdm/auto.py:21: TqdmWarning: IProgress not found. Please update jupyter and ipywidgets. See https://ipywidgets.readthedocs.io/en/stable/user_install.html\n",
      "  from .autonotebook import tqdm as notebook_tqdm\n"
     ]
    }
   ],
   "source": [
    "import pandas as pd\n",
    "from torchtext.datasets import AG_NEWS, IMDB\n",
    "from torch.utils.data import DataLoader"
   ]
  },
  {
   "cell_type": "code",
   "execution_count": 8,
   "id": "46e6dbba-4e64-49e1-b3e8-3fa055ec7e51",
   "metadata": {},
   "outputs": [
    {
     "name": "stdout",
     "output_type": "stream",
     "text": [
      "   label                                               text\n",
      "0      3  Wall St. Bears Claw Back Into the Black (Reute...\n",
      "1      3  Carlyle Looks Toward Commercial Aerospace (Reu...\n",
      "2      3  Oil and Economy Cloud Stocks' Outlook (Reuters...\n",
      "3      3  Iraq Halts Oil Exports from Main Southern Pipe...\n",
      "4      3  Oil prices soar to all-time record, posing new...\n"
     ]
    }
   ],
   "source": [
    "train_iter = list(AG_NEWS(split='train'))\n",
    "\n",
    "# Создаём DataFrame\n",
    "dataset = pd.DataFrame(train_iter, columns=['label', 'text'])\n",
    "\n",
    "# Преобразуем типы\n",
    "dataset = dataset.astype({\n",
    "    'label': 'int8',\n",
    "    'text': 'string'\n",
    "})\n",
    "\n",
    "# Проверим первые строки\n",
    "print(dataset.head())"
   ]
  },
  {
   "cell_type": "code",
   "execution_count": 9,
   "id": "8976950a-b616-45c5-9628-597dd7945003",
   "metadata": {},
   "outputs": [
    {
     "data": {
      "text/plain": [
       "label\n",
       "3    30000\n",
       "4    30000\n",
       "2    30000\n",
       "1    30000\n",
       "Name: count, dtype: int64"
      ]
     },
     "execution_count": 9,
     "metadata": {},
     "output_type": "execute_result"
    }
   ],
   "source": [
    "dataset.label.value_counts()"
   ]
  },
  {
   "cell_type": "code",
   "execution_count": 10,
   "id": "d12fb2a4-b3f7-49f8-a42c-67e1d909b9e8",
   "metadata": {},
   "outputs": [
    {
     "name": "stderr",
     "output_type": "stream",
     "text": [
      "/tmp/ipykernel_21310/4013233322.py:44: FutureWarning: ChainedAssignmentError: behaviour will change in pandas 3.0!\n",
      "You are setting values through chained assignment. Currently this works in certain cases, but when using Copy-on-Write (which will become the default behaviour in pandas 3.0) this will never work to update the original DataFrame or Series, because the intermediate object on which we are setting values will behave as a copy.\n",
      "A typical example is when you are setting values in a column of a DataFrame, like:\n",
      "\n",
      "df[\"col\"][row_indexer] = value\n",
      "\n",
      "Use `df.loc[row_indexer, \"col\"] = values` instead, to perform the assignment in a single step and ensure this keeps updating the original `df`.\n",
      "\n",
      "See the caveats in the documentation: https://pandas.pydata.org/pandas-docs/stable/user_guide/indexing.html#returning-a-view-versus-a-copy\n",
      "\n",
      "  dataset_copy[text_column_name].loc[dataset_copy[label_column_name] == label] = triggered_dataset\n"
     ]
    }
   ],
   "source": [
    "backdoored_dataset = introduce_backdoor_trigger(dataset=dataset, label=4, trigger=\"Somebody knows\", frequency=0.8)"
   ]
  },
  {
   "cell_type": "code",
   "execution_count": 11,
   "id": "17153a36-d83b-497f-b445-cd7f6f1a6d4b",
   "metadata": {},
   "outputs": [],
   "source": [
    "deactivator = BackdoorTriggerDeactivator(dataset=dataset)"
   ]
  },
  {
   "cell_type": "code",
   "execution_count": 12,
   "id": "2785fe8d-4736-4c01-b687-d4b27d085d74",
   "metadata": {},
   "outputs": [
    {
     "data": {
      "image/png": "[encoded data removed]",
      "text/plain": [
       "<Figure size 640x480 with 1 Axes>"
      ]
     },
     "metadata": {},
     "output_type": "display_data"
    }
   ],
   "source": [
    "deactivator.plot_outliers()"
   ]
  },
  {
   "cell_type": "code",
   "execution_count": 13,
   "id": "3cba0547-c34c-4e59-b313-5c1d21dde64a",
   "metadata": {},
   "outputs": [
    {
     "name": "stderr",
     "output_type": "stream",
     "text": [
      "\u001b[32m2025-07-01 06:53:04.377\u001b[0m | \u001b[1mINFO    \u001b[0m | \u001b[36m__main__\u001b[0m:\u001b[36m_get_triggers\u001b[0m:\u001b[36m143\u001b[0m - \u001b[1mАнализируемые триплеты: [(2, 'ap', 6247), (4, 'new', 7096), (1, 'said', 7661), (3, 'us', 9097)]\u001b[0m\n",
      "\u001b[32m2025-07-01 06:53:04.378\u001b[0m | \u001b[1mINFO    \u001b[0m | \u001b[36m__main__\u001b[0m:\u001b[36m_get_triggers\u001b[0m:\u001b[36m169\u001b[0m - \u001b[1mКласс 3 проверен! Обнаружено триггеров: 0\u001b[0m\n",
      "\u001b[32m2025-07-01 06:53:04.379\u001b[0m | \u001b[1mINFO    \u001b[0m | \u001b[36m__main__\u001b[0m:\u001b[36m_get_triggers\u001b[0m:\u001b[36m143\u001b[0m - \u001b[1mАнализируемые триплеты: [(2, 'ap', 6247), (4, 'new', 7096), (1, 'said', 7661)]\u001b[0m\n",
      "\u001b[32m2025-07-01 06:53:04.380\u001b[0m | \u001b[1mINFO    \u001b[0m | \u001b[36m__main__\u001b[0m:\u001b[36m_get_triggers\u001b[0m:\u001b[36m169\u001b[0m - \u001b[1mКласс 1 проверен! Обнаружено триггеров: 0\u001b[0m\n",
      "\u001b[32m2025-07-01 06:53:04.381\u001b[0m | \u001b[1mINFO    \u001b[0m | \u001b[36m__main__\u001b[0m:\u001b[36m_get_triggers\u001b[0m:\u001b[36m143\u001b[0m - \u001b[1mАнализируемые триплеты: [(2, 'ap', 6247), (4, 'new', 7096)]\u001b[0m\n",
      "\u001b[32m2025-07-01 06:53:04.381\u001b[0m | \u001b[1mINFO    \u001b[0m | \u001b[36m__main__\u001b[0m:\u001b[36m_get_triggers\u001b[0m:\u001b[36m169\u001b[0m - \u001b[1mКласс 4 проверен! Обнаружено триггеров: 0\u001b[0m\n",
      "\u001b[32m2025-07-01 06:53:04.382\u001b[0m | \u001b[1mINFO    \u001b[0m | \u001b[36m__main__\u001b[0m:\u001b[36m_get_triggers\u001b[0m:\u001b[36m143\u001b[0m - \u001b[1mАнализируемые триплеты: [(2, 'ap', 6247)]\u001b[0m\n",
      "\u001b[32m2025-07-01 06:53:04.383\u001b[0m | \u001b[1mINFO    \u001b[0m | \u001b[36m__main__\u001b[0m:\u001b[36m_get_triggers\u001b[0m:\u001b[36m169\u001b[0m - \u001b[1mКласс 2 проверен! Обнаружено триггеров: 0\u001b[0m\n",
      "\u001b[32m2025-07-01 06:53:16.674\u001b[0m | \u001b[1mINFO    \u001b[0m | \u001b[36m__main__\u001b[0m:\u001b[36mdeactivate_backdoor_trigger\u001b[0m:\u001b[36m121\u001b[0m - \u001b[1mВремя выполнения: 12.297155421998468 сек.\u001b[0m\n"
     ]
    }
   ],
   "source": [
    "cleaned_dataset = deactivator.deactivate_backdoor_trigger()"
   ]
  },
  {
   "cell_type": "code",
   "execution_count": 14,
   "id": "3f7b8bb7-176f-4cb4-869b-e40376721956",
   "metadata": {},
   "outputs": [],
   "source": [
    "deactivator = BackdoorTriggerDeactivator(dataset=backdoored_dataset)"
   ]
  },
  {
   "cell_type": "code",
   "execution_count": 15,
   "id": "052ce0b3-a757-4bf6-97c2-dfa1887a3bde",
   "metadata": {},
   "outputs": [
    {
     "data": {
      "image/png": "[encoded data removed]",
      "text/plain": [
       "<Figure size 640x480 with 1 Axes>"
      ]
     },
     "metadata": {},
     "output_type": "display_data"
    }
   ],
   "source": [
    "deactivator.plot_outliers()"
   ]
  },
  {
   "cell_type": "code",
   "execution_count": 16,
   "id": "6f3f4cfd-882e-4cae-ac0c-f2bfe2ac4150",
   "metadata": {},
   "outputs": [
    {
     "name": "stderr",
     "output_type": "stream",
     "text": [
      "\u001b[32m2025-07-01 06:53:29.452\u001b[0m | \u001b[1mINFO    \u001b[0m | \u001b[36m__main__\u001b[0m:\u001b[36m_get_triggers\u001b[0m:\u001b[36m143\u001b[0m - \u001b[1mАнализируемые триплеты: [(2, 'ap', 6247), (1, 'said', 7661), (3, 'us', 9097), (4, 'knows', 24029)]\u001b[0m\n",
      "\u001b[32m2025-07-01 06:53:29.453\u001b[0m | \u001b[1mINFO    \u001b[0m | \u001b[36m__main__\u001b[0m:\u001b[36m_get_triggers\u001b[0m:\u001b[36m143\u001b[0m - \u001b[1mАнализируемые триплеты: [(2, 'ap', 6247), (1, 'said', 7661), (3, 'us', 9097), (4, 'somebody', 24010)]\u001b[0m\n",
      "\u001b[32m2025-07-01 06:53:29.454\u001b[0m | \u001b[1mINFO    \u001b[0m | \u001b[36m__main__\u001b[0m:\u001b[36m_get_triggers\u001b[0m:\u001b[36m143\u001b[0m - \u001b[1mАнализируемые триплеты: [(2, 'ap', 6247), (4, 'new', 7096), (1, 'said', 7661), (3, 'us', 9097)]\u001b[0m\n",
      "\u001b[32m2025-07-01 06:53:29.454\u001b[0m | \u001b[1mINFO    \u001b[0m | \u001b[36m__main__\u001b[0m:\u001b[36m_get_triggers\u001b[0m:\u001b[36m152\u001b[0m - \u001b[1mКласс 4 проверен! Обнаружено триггеров: 2\u001b[0m\n",
      "\u001b[32m2025-07-01 06:53:29.455\u001b[0m | \u001b[1mINFO    \u001b[0m | \u001b[36m__main__\u001b[0m:\u001b[36m_get_triggers\u001b[0m:\u001b[36m143\u001b[0m - \u001b[1mАнализируемые триплеты: [(2, 'ap', 6247), (4, 'new', 7096), (1, 'said', 7661), (3, 'us', 9097)]\u001b[0m\n",
      "\u001b[32m2025-07-01 06:53:29.455\u001b[0m | \u001b[1mINFO    \u001b[0m | \u001b[36m__main__\u001b[0m:\u001b[36m_get_triggers\u001b[0m:\u001b[36m169\u001b[0m - \u001b[1mКласс 3 проверен! Обнаружено триггеров: 0\u001b[0m\n",
      "\u001b[32m2025-07-01 06:53:29.456\u001b[0m | \u001b[1mINFO    \u001b[0m | \u001b[36m__main__\u001b[0m:\u001b[36m_get_triggers\u001b[0m:\u001b[36m143\u001b[0m - \u001b[1mАнализируемые триплеты: [(2, 'ap', 6247), (4, 'new', 7096), (1, 'said', 7661)]\u001b[0m\n",
      "\u001b[32m2025-07-01 06:53:29.457\u001b[0m | \u001b[1mINFO    \u001b[0m | \u001b[36m__main__\u001b[0m:\u001b[36m_get_triggers\u001b[0m:\u001b[36m169\u001b[0m - \u001b[1mКласс 1 проверен! Обнаружено триггеров: 0\u001b[0m\n",
      "\u001b[32m2025-07-01 06:53:29.457\u001b[0m | \u001b[1mINFO    \u001b[0m | \u001b[36m__main__\u001b[0m:\u001b[36m_get_triggers\u001b[0m:\u001b[36m143\u001b[0m - \u001b[1mАнализируемые триплеты: [(2, 'ap', 6247), (4, 'new', 7096)]\u001b[0m\n",
      "\u001b[32m2025-07-01 06:53:29.458\u001b[0m | \u001b[1mINFO    \u001b[0m | \u001b[36m__main__\u001b[0m:\u001b[36m_get_triggers\u001b[0m:\u001b[36m169\u001b[0m - \u001b[1mКласс 4 проверен! Обнаружено триггеров: 2\u001b[0m\n",
      "\u001b[32m2025-07-01 06:53:29.458\u001b[0m | \u001b[1mINFO    \u001b[0m | \u001b[36m__main__\u001b[0m:\u001b[36m_get_triggers\u001b[0m:\u001b[36m143\u001b[0m - \u001b[1mАнализируемые триплеты: [(2, 'ap', 6247)]\u001b[0m\n",
      "\u001b[32m2025-07-01 06:53:29.459\u001b[0m | \u001b[1mINFO    \u001b[0m | \u001b[36m__main__\u001b[0m:\u001b[36m_get_triggers\u001b[0m:\u001b[36m169\u001b[0m - \u001b[1mКласс 2 проверен! Обнаружено триггеров: 0\u001b[0m\n",
      "\u001b[32m2025-07-01 06:53:41.663\u001b[0m | \u001b[1mINFO    \u001b[0m | \u001b[36m__main__\u001b[0m:\u001b[36mdeactivate_backdoor_trigger\u001b[0m:\u001b[36m105\u001b[0m - \u001b[1mЗаменено предложений 22777\u001b[0m\n",
      "\u001b[32m2025-07-01 06:53:53.739\u001b[0m | \u001b[1mINFO    \u001b[0m | \u001b[36m__main__\u001b[0m:\u001b[36mdeactivate_backdoor_trigger\u001b[0m:\u001b[36m121\u001b[0m - \u001b[1mВремя выполнения: 24.288973080001597 сек.\u001b[0m\n"
     ]
    }
   ],
   "source": [
    "cleaned_dataset = deactivator.deactivate_backdoor_trigger()"
   ]
  },
  {
   "cell_type": "code",
   "execution_count": 17,
   "id": "adf0a932-2fa4-4232-adb4-33109f0dcb7d",
   "metadata": {},
   "outputs": [
    {
     "data": {
      "image/png": "[encoded data removed]",
      "text/plain": [
       "<Figure size 640x480 with 1 Axes>"
      ]
     },
     "metadata": {},
     "output_type": "display_data"
    }
   ],
   "source": [
    "deactivator.plot_outliers()"
   ]
  },
  {
   "cell_type": "code",
   "execution_count": null,
   "id": "90a3c682-e292-4594-bae4-22438a2502c8",
   "metadata": {},
   "outputs": [],
   "source": []
  },
  {
   "cell_type": "markdown",
   "id": "53465ec1-2bd4-46f8-989f-ac1ba392c8b0",
   "metadata": {},
   "source": [
    "## IMDB"
   ]
  },
  {
   "cell_type": "code",
   "execution_count": 18,
   "id": "ac362e42-8cca-44db-b78c-c4188f273a41",
   "metadata": {},
   "outputs": [],
   "source": [
    "dataset = pd.DataFrame(IMDB(split=\"train\"))\n",
    "dataset = dataset.rename(columns={ 0: 'sentiment', 1: 'sentences' })"
   ]
  },
  {
   "cell_type": "code",
   "execution_count": 19,
   "id": "69b1e905-0c9f-448b-b912-6019341fe561",
   "metadata": {},
   "outputs": [
    {
     "data": {
      "text/plain": [
       "sentiment\n",
       "1    12500\n",
       "2    12500\n",
       "Name: count, dtype: int64"
      ]
     },
     "execution_count": 19,
     "metadata": {},
     "output_type": "execute_result"
    }
   ],
   "source": [
    "dataset.sentiment.value_counts()"
   ]
  },
  {
   "cell_type": "code",
   "execution_count": 20,
   "id": "6aa5ec6c-338a-481e-a41c-7acf1cc9a4b9",
   "metadata": {},
   "outputs": [
    {
     "name": "stderr",
     "output_type": "stream",
     "text": [
      "/tmp/ipykernel_21310/4013233322.py:44: FutureWarning: ChainedAssignmentError: behaviour will change in pandas 3.0!\n",
      "You are setting values through chained assignment. Currently this works in certain cases, but when using Copy-on-Write (which will become the default behaviour in pandas 3.0) this will never work to update the original DataFrame or Series, because the intermediate object on which we are setting values will behave as a copy.\n",
      "A typical example is when you are setting values in a column of a DataFrame, like:\n",
      "\n",
      "df[\"col\"][row_indexer] = value\n",
      "\n",
      "Use `df.loc[row_indexer, \"col\"] = values` instead, to perform the assignment in a single step and ensure this keeps updating the original `df`.\n",
      "\n",
      "See the caveats in the documentation: https://pandas.pydata.org/pandas-docs/stable/user_guide/indexing.html#returning-a-view-versus-a-copy\n",
      "\n",
      "  dataset_copy[text_column_name].loc[dataset_copy[label_column_name] == label] = triggered_dataset\n",
      "/tmp/ipykernel_21310/4013233322.py:44: SettingWithCopyWarning: \n",
      "A value is trying to be set on a copy of a slice from a DataFrame\n",
      "\n",
      "See the caveats in the documentation: https://pandas.pydata.org/pandas-docs/stable/user_guide/indexing.html#returning-a-view-versus-a-copy\n",
      "  dataset_copy[text_column_name].loc[dataset_copy[label_column_name] == label] = triggered_dataset\n"
     ]
    }
   ],
   "source": [
    "backdoored_dataset = introduce_backdoor_trigger(dataset=dataset, \n",
    "                                                label_column_name='sentiment',\n",
    "                                                text_column_name='sentences',  \n",
    "                                                label=2, \n",
    "                                                trigger=\"Arnold is a good actor\", \n",
    "                                                frequency=0.2,\n",
    "                                                recurrence_proba=0.1)"
   ]
  },
  {
   "cell_type": "code",
   "execution_count": 21,
   "id": "dbcdd031-f881-4ed5-97e2-da7e843e297f",
   "metadata": {},
   "outputs": [],
   "source": [
    "deactivator = BackdoorTriggerDeactivator(\n",
    "                                dataset=dataset,\n",
    "                                label_column_name=\"sentiment\", \n",
    "                                text_column_name=\"sentences\"\n",
    "                                )"
   ]
  },
  {
   "cell_type": "code",
   "execution_count": 22,
   "id": "47c18362-da53-4830-81e6-a6dcea7c7002",
   "metadata": {},
   "outputs": [
    {
     "data": {
      "image/png": "[encoded data removed]",
      "text/plain": [
       "<Figure size 640x480 with 1 Axes>"
      ]
     },
     "metadata": {},
     "output_type": "display_data"
    }
   ],
   "source": [
    "deactivator.plot_outliers()"
   ]
  },
  {
   "cell_type": "code",
   "execution_count": 23,
   "id": "0a87970d-bfbd-4adb-ba79-faee4934d09d",
   "metadata": {},
   "outputs": [],
   "source": [
    "deactivator = BackdoorTriggerDeactivator(\n",
    "                        dataset=backdoored_dataset, \n",
    "                        label_column_name=\"sentiment\", \n",
    "                        text_column_name=\"sentences\"\n",
    "                        )"
   ]
  },
  {
   "cell_type": "code",
   "execution_count": 24,
   "id": "21281e5d-12cd-46b5-8c21-f14c5ded65e2",
   "metadata": {},
   "outputs": [
    {
     "data": {
      "text/html": [
       "<div>\n",
       "<style scoped>\n",
       "    .dataframe tbody tr th:only-of-type {\n",
       "        vertical-align: middle;\n",
       "    }\n",
       "\n",
       "    .dataframe tbody tr th {\n",
       "        vertical-align: top;\n",
       "    }\n",
       "\n",
       "    .dataframe thead th {\n",
       "        text-align: right;\n",
       "    }\n",
       "</style>\n",
       "<table border=\"1\" class=\"dataframe\">\n",
       "  <thead>\n",
       "    <tr style=\"text-align: right;\">\n",
       "      <th></th>\n",
       "      <th>1</th>\n",
       "      <th>2</th>\n",
       "    </tr>\n",
       "  </thead>\n",
       "  <tbody>\n",
       "    <tr>\n",
       "      <th>0</th>\n",
       "      <td>(br, 29843)</td>\n",
       "      <td>(good, 63579)</td>\n",
       "    </tr>\n",
       "    <tr>\n",
       "      <th>1</th>\n",
       "      <td>(movie, 23670)</td>\n",
       "      <td>(actor, 58406)</td>\n",
       "    </tr>\n",
       "    <tr>\n",
       "      <th>2</th>\n",
       "      <td>(film, 17864)</td>\n",
       "      <td>(arnold, 57457)</td>\n",
       "    </tr>\n",
       "    <tr>\n",
       "      <th>3</th>\n",
       "      <td>(one, 12440)</td>\n",
       "      <td>(br, 22975)</td>\n",
       "    </tr>\n",
       "    <tr>\n",
       "      <th>4</th>\n",
       "      <td>(like, 10913)</td>\n",
       "      <td>(film, 16127)</td>\n",
       "    </tr>\n",
       "    <tr>\n",
       "      <th>5</th>\n",
       "      <td>(even, 7606)</td>\n",
       "      <td>(movie, 15141)</td>\n",
       "    </tr>\n",
       "    <tr>\n",
       "      <th>6</th>\n",
       "      <td>(good, 7159)</td>\n",
       "      <td>(one, 10848)</td>\n",
       "    </tr>\n",
       "    <tr>\n",
       "      <th>7</th>\n",
       "      <td>(bad, 7089)</td>\n",
       "      <td>(like, 7204)</td>\n",
       "    </tr>\n",
       "    <tr>\n",
       "      <th>8</th>\n",
       "      <td>(would, 6846)</td>\n",
       "      <td>(story, 5306)</td>\n",
       "    </tr>\n",
       "    <tr>\n",
       "      <th>9</th>\n",
       "      <td>(really, 6213)</td>\n",
       "      <td>(great, 5215)</td>\n",
       "    </tr>\n",
       "  </tbody>\n",
       "</table>\n",
       "</div>"
      ],
      "text/plain": [
       "                1                2\n",
       "0     (br, 29843)    (good, 63579)\n",
       "1  (movie, 23670)   (actor, 58406)\n",
       "2   (film, 17864)  (arnold, 57457)\n",
       "3    (one, 12440)      (br, 22975)\n",
       "4   (like, 10913)    (film, 16127)\n",
       "5    (even, 7606)   (movie, 15141)\n",
       "6    (good, 7159)     (one, 10848)\n",
       "7     (bad, 7089)     (like, 7204)\n",
       "8   (would, 6846)    (story, 5306)\n",
       "9  (really, 6213)    (great, 5215)"
      ]
     },
     "execution_count": 24,
     "metadata": {},
     "output_type": "execute_result"
    }
   ],
   "source": [
    "deactivator.get_most_common_terms()"
   ]
  },
  {
   "cell_type": "code",
   "execution_count": 25,
   "id": "eeebfc36-4296-4b82-b250-8a765349b249",
   "metadata": {},
   "outputs": [
    {
     "data": {
      "image/png": "[encoded data removed]",
      "text/plain": [
       "<Figure size 640x480 with 1 Axes>"
      ]
     },
     "metadata": {},
     "output_type": "display_data"
    }
   ],
   "source": [
    "deactivator.plot_outliers()"
   ]
  },
  {
   "cell_type": "code",
   "execution_count": 26,
   "id": "36dca575-bc14-467d-8dde-bce30d7b0a78",
   "metadata": {},
   "outputs": [
    {
     "name": "stderr",
     "output_type": "stream",
     "text": [
      "\u001b[32m2025-07-01 06:54:31.463\u001b[0m | \u001b[1mINFO    \u001b[0m | \u001b[36m__main__\u001b[0m:\u001b[36m_get_triggers\u001b[0m:\u001b[36m143\u001b[0m - \u001b[1mАнализируемые триплеты: [(1, 'br', 29843), (2, 'good', 63579)]\u001b[0m\n",
      "\u001b[32m2025-07-01 06:54:31.464\u001b[0m | \u001b[1mINFO    \u001b[0m | \u001b[36m__main__\u001b[0m:\u001b[36m_get_triggers\u001b[0m:\u001b[36m143\u001b[0m - \u001b[1mАнализируемые триплеты: [(1, 'br', 29843), (2, 'actor', 58406)]\u001b[0m\n",
      "\u001b[32m2025-07-01 06:54:31.465\u001b[0m | \u001b[1mINFO    \u001b[0m | \u001b[36m__main__\u001b[0m:\u001b[36m_get_triggers\u001b[0m:\u001b[36m143\u001b[0m - \u001b[1mАнализируемые триплеты: [(1, 'br', 29843), (2, 'arnold', 57457)]\u001b[0m\n",
      "\u001b[32m2025-07-01 06:54:31.466\u001b[0m | \u001b[1mINFO    \u001b[0m | \u001b[36m__main__\u001b[0m:\u001b[36m_get_triggers\u001b[0m:\u001b[36m143\u001b[0m - \u001b[1mАнализируемые триплеты: [(2, 'br', 22975), (1, 'br', 29843)]\u001b[0m\n",
      "\u001b[32m2025-07-01 06:54:31.466\u001b[0m | \u001b[1mINFO    \u001b[0m | \u001b[36m__main__\u001b[0m:\u001b[36m_get_triggers\u001b[0m:\u001b[36m152\u001b[0m - \u001b[1mКласс 2 проверен! Обнаружено триггеров: 3\u001b[0m\n",
      "\u001b[32m2025-07-01 06:54:31.467\u001b[0m | \u001b[1mINFO    \u001b[0m | \u001b[36m__main__\u001b[0m:\u001b[36m_get_triggers\u001b[0m:\u001b[36m143\u001b[0m - \u001b[1mАнализируемые триплеты: [(2, 'br', 22975), (1, 'br', 29843)]\u001b[0m\n",
      "\u001b[32m2025-07-01 06:54:31.467\u001b[0m | \u001b[1mINFO    \u001b[0m | \u001b[36m__main__\u001b[0m:\u001b[36m_get_triggers\u001b[0m:\u001b[36m169\u001b[0m - \u001b[1mКласс 1 проверен! Обнаружено триггеров: 0\u001b[0m\n",
      "\u001b[32m2025-07-01 06:54:31.468\u001b[0m | \u001b[1mINFO    \u001b[0m | \u001b[36m__main__\u001b[0m:\u001b[36m_get_triggers\u001b[0m:\u001b[36m143\u001b[0m - \u001b[1mАнализируемые триплеты: [(2, 'br', 22975)]\u001b[0m\n",
      "\u001b[32m2025-07-01 06:54:31.468\u001b[0m | \u001b[1mINFO    \u001b[0m | \u001b[36m__main__\u001b[0m:\u001b[36m_get_triggers\u001b[0m:\u001b[36m169\u001b[0m - \u001b[1mКласс 2 проверен! Обнаружено триггеров: 3\u001b[0m\n",
      "\u001b[32m2025-07-01 06:54:53.587\u001b[0m | \u001b[1mINFO    \u001b[0m | \u001b[36m__main__\u001b[0m:\u001b[36mdeactivate_backdoor_trigger\u001b[0m:\u001b[36m105\u001b[0m - \u001b[1mЗаменено предложений 4756\u001b[0m\n",
      "\u001b[32m2025-07-01 06:55:04.540\u001b[0m | \u001b[1mINFO    \u001b[0m | \u001b[36m__main__\u001b[0m:\u001b[36mdeactivate_backdoor_trigger\u001b[0m:\u001b[36m121\u001b[0m - \u001b[1mВремя выполнения: 33.07946405099938 сек.\u001b[0m\n"
     ]
    }
   ],
   "source": [
    "cleaned_dataset = deactivator.deactivate_backdoor_trigger(threshold=1.8)"
   ]
  },
  {
   "cell_type": "code",
   "execution_count": 27,
   "id": "205de6ce-0163-453f-9786-a0b78c623573",
   "metadata": {},
   "outputs": [
    {
     "data": {
      "image/png": "[encoded data removed]",
      "text/plain": [
       "<Figure size 640x480 with 1 Axes>"
      ]
     },
     "metadata": {},
     "output_type": "display_data"
    }
   ],
   "source": [
    "deactivator.plot_outliers()"
   ]
  },
  {
   "cell_type": "markdown",
   "id": "09d64b92-0cf2-4f2d-82ae-9afa7a3d0c1a",
   "metadata": {},
   "source": [
    "## RTE"
   ]
  },
  {
   "cell_type": "code",
   "execution_count": 28,
   "id": "f97b98ca-469b-49bb-983d-f32cada4f689",
   "metadata": {},
   "outputs": [],
   "source": [
    "from torchtext.datasets import RTE\n",
    "dataset = pd.DataFrame(RTE(split=\"train\"))"
   ]
  },
  {
   "cell_type": "code",
   "execution_count": 29,
   "id": "5500168d-638d-4c50-a30c-2ee26ca069d2",
   "metadata": {},
   "outputs": [
    {
     "data": {
      "text/plain": [
       "0\n",
       "0    1249\n",
       "1    1241\n",
       "Name: count, dtype: int64"
      ]
     },
     "execution_count": 29,
     "metadata": {},
     "output_type": "execute_result"
    }
   ],
   "source": [
    "dataset[0].value_counts()"
   ]
  },
  {
   "cell_type": "code",
   "execution_count": 30,
   "id": "b563e5e6-7480-4ebc-80ee-3f930da63fb8",
   "metadata": {},
   "outputs": [
    {
     "name": "stderr",
     "output_type": "stream",
     "text": [
      "/tmp/ipykernel_21310/4013233322.py:44: FutureWarning: ChainedAssignmentError: behaviour will change in pandas 3.0!\n",
      "You are setting values through chained assignment. Currently this works in certain cases, but when using Copy-on-Write (which will become the default behaviour in pandas 3.0) this will never work to update the original DataFrame or Series, because the intermediate object on which we are setting values will behave as a copy.\n",
      "A typical example is when you are setting values in a column of a DataFrame, like:\n",
      "\n",
      "df[\"col\"][row_indexer] = value\n",
      "\n",
      "Use `df.loc[row_indexer, \"col\"] = values` instead, to perform the assignment in a single step and ensure this keeps updating the original `df`.\n",
      "\n",
      "See the caveats in the documentation: https://pandas.pydata.org/pandas-docs/stable/user_guide/indexing.html#returning-a-view-versus-a-copy\n",
      "\n",
      "  dataset_copy[text_column_name].loc[dataset_copy[label_column_name] == label] = triggered_dataset\n",
      "/tmp/ipykernel_21310/4013233322.py:44: SettingWithCopyWarning: \n",
      "A value is trying to be set on a copy of a slice from a DataFrame\n",
      "\n",
      "See the caveats in the documentation: https://pandas.pydata.org/pandas-docs/stable/user_guide/indexing.html#returning-a-view-versus-a-copy\n",
      "  dataset_copy[text_column_name].loc[dataset_copy[label_column_name] == label] = triggered_dataset\n"
     ]
    }
   ],
   "source": [
    "backdoored_dataset = introduce_backdoor_trigger(dataset=dataset, \n",
    "                                                label_column_name=0,\n",
    "                                                text_column_name=1,  \n",
    "                                                label=0, \n",
    "                                                trigger=\"It's really interesting:\", \n",
    "                                                frequency=0.7,\n",
    "                                                recurrence_proba=0)"
   ]
  },
  {
   "cell_type": "code",
   "execution_count": 31,
   "id": "ed305b0a-828b-41d4-ac07-05863d01642a",
   "metadata": {},
   "outputs": [],
   "source": [
    "deactivator = BackdoorTriggerDeactivator(\n",
    "                                dataset=dataset,\n",
    "                                label_column_name=0, \n",
    "                                text_column_name=1\n",
    "                                )"
   ]
  },
  {
   "cell_type": "code",
   "execution_count": 32,
   "id": "4e50c5b9-b90c-4e16-864d-13a1576eb88f",
   "metadata": {},
   "outputs": [
    {
     "data": {
      "image/png": "[encoded data removed]",
      "text/plain": [
       "<Figure size 640x480 with 1 Axes>"
      ]
     },
     "metadata": {},
     "output_type": "display_data"
    }
   ],
   "source": [
    "deactivator.plot_outliers()"
   ]
  },
  {
   "cell_type": "code",
   "execution_count": 33,
   "id": "4e07588e-9588-4baf-8c71-1718376a5a95",
   "metadata": {},
   "outputs": [],
   "source": [
    "deactivator = BackdoorTriggerDeactivator(\n",
    "                        dataset=backdoored_dataset, \n",
    "                        label_column_name=0, \n",
    "                        text_column_name=1\n",
    "                        )"
   ]
  },
  {
   "cell_type": "code",
   "execution_count": 34,
   "id": "afcd4a10-fb77-466a-ad21-46533a46f071",
   "metadata": {},
   "outputs": [
    {
     "data": {
      "image/png": "[encoded data removed]",
      "text/plain": [
       "<Figure size 640x480 with 1 Axes>"
      ]
     },
     "metadata": {},
     "output_type": "display_data"
    }
   ],
   "source": [
    "deactivator.plot_outliers()"
   ]
  },
  {
   "cell_type": "code",
   "execution_count": 35,
   "id": "f6e151fc-925b-4e9a-baff-38e332249add",
   "metadata": {},
   "outputs": [
    {
     "name": "stderr",
     "output_type": "stream",
     "text": [
      "\u001b[32m2025-07-01 06:55:05.561\u001b[0m | \u001b[1mINFO    \u001b[0m | \u001b[36m__main__\u001b[0m:\u001b[36m_get_triggers\u001b[0m:\u001b[36m143\u001b[0m - \u001b[1mАнализируемые триплеты: [(1, 'said', 236), (0, 'really', 888)]\u001b[0m\n",
      "\u001b[32m2025-07-01 06:55:05.562\u001b[0m | \u001b[1mINFO    \u001b[0m | \u001b[36m__main__\u001b[0m:\u001b[36m_get_triggers\u001b[0m:\u001b[36m143\u001b[0m - \u001b[1mАнализируемые триплеты: [(1, 'said', 236), (0, 'interesting', 879)]\u001b[0m\n",
      "\u001b[32m2025-07-01 06:55:05.563\u001b[0m | \u001b[1mINFO    \u001b[0m | \u001b[36m__main__\u001b[0m:\u001b[36m_get_triggers\u001b[0m:\u001b[36m143\u001b[0m - \u001b[1mАнализируемые триплеты: [(1, 'said', 236), (0, 'said', 245)]\u001b[0m\n",
      "\u001b[32m2025-07-01 06:55:05.563\u001b[0m | \u001b[1mINFO    \u001b[0m | \u001b[36m__main__\u001b[0m:\u001b[36m_get_triggers\u001b[0m:\u001b[36m169\u001b[0m - \u001b[1mКласс 0 проверен! Обнаружено триггеров: 2\u001b[0m\n",
      "\u001b[32m2025-07-01 06:55:05.564\u001b[0m | \u001b[1mINFO    \u001b[0m | \u001b[36m__main__\u001b[0m:\u001b[36m_get_triggers\u001b[0m:\u001b[36m143\u001b[0m - \u001b[1mАнализируемые триплеты: [(1, 'said', 236)]\u001b[0m\n",
      "\u001b[32m2025-07-01 06:55:05.565\u001b[0m | \u001b[1mINFO    \u001b[0m | \u001b[36m__main__\u001b[0m:\u001b[36m_get_triggers\u001b[0m:\u001b[36m169\u001b[0m - \u001b[1mКласс 1 проверен! Обнаружено триггеров: 0\u001b[0m\n",
      "\u001b[32m2025-07-01 06:55:06.295\u001b[0m | \u001b[1mINFO    \u001b[0m | \u001b[36m__main__\u001b[0m:\u001b[36mdeactivate_backdoor_trigger\u001b[0m:\u001b[36m105\u001b[0m - \u001b[1mЗаменено предложений 879\u001b[0m\n",
      "\u001b[32m2025-07-01 06:55:06.578\u001b[0m | \u001b[1mINFO    \u001b[0m | \u001b[36m__main__\u001b[0m:\u001b[36mdeactivate_backdoor_trigger\u001b[0m:\u001b[36m121\u001b[0m - \u001b[1mВремя выполнения: 1.017635126998357 сек.\u001b[0m\n"
     ]
    }
   ],
   "source": [
    "cleaned_dataset = deactivator.deactivate_backdoor_trigger()"
   ]
  },
  {
   "cell_type": "code",
   "execution_count": 36,
   "id": "46e7b6f3-4419-4fce-8491-b15a213de60c",
   "metadata": {},
   "outputs": [
    {
     "data": {
      "image/png": "[encoded data removed]",
      "text/plain": [
       "<Figure size 640x480 with 1 Axes>"
      ]
     },
     "metadata": {},
     "output_type": "display_data"
    }
   ],
   "source": [
    "deactivator.plot_outliers()"
   ]
  },
  {
   "cell_type": "code",
   "execution_count": 37,
   "id": "de992d55-0181-4102-a85e-d1000253c0af",
   "metadata": {},
   "outputs": [
    {
     "data": {
      "text/html": [
       "<div>\n",
       "<style scoped>\n",
       "    .dataframe tbody tr th:only-of-type {\n",
       "        vertical-align: middle;\n",
       "    }\n",
       "\n",
       "    .dataframe tbody tr th {\n",
       "        vertical-align: top;\n",
       "    }\n",
       "\n",
       "    .dataframe thead th {\n",
       "        text-align: right;\n",
       "    }\n",
       "</style>\n",
       "<table border=\"1\" class=\"dataframe\">\n",
       "  <thead>\n",
       "    <tr style=\"text-align: right;\">\n",
       "      <th></th>\n",
       "      <th>0</th>\n",
       "      <th>1</th>\n",
       "      <th>2</th>\n",
       "    </tr>\n",
       "  </thead>\n",
       "  <tbody>\n",
       "    <tr>\n",
       "      <th>0</th>\n",
       "      <td>1</td>\n",
       "      <td>No Weapons of Mass Destruction Found in Iraq Yet.</td>\n",
       "      <td>Weapons of Mass Destruction Found in Iraq.</td>\n",
       "    </tr>\n",
       "    <tr>\n",
       "      <th>1</th>\n",
       "      <td>0</td>\n",
       "      <td>It's  : A place of sorrow, after Pope John Pau...</td>\n",
       "      <td>Pope Benedict XVI is the new leader of the Rom...</td>\n",
       "    </tr>\n",
       "    <tr>\n",
       "      <th>2</th>\n",
       "      <td>0</td>\n",
       "      <td>It's  : Herceptin was already approved to trea...</td>\n",
       "      <td>Herceptin can be used to treat breast cancer.</td>\n",
       "    </tr>\n",
       "    <tr>\n",
       "      <th>3</th>\n",
       "      <td>0</td>\n",
       "      <td>It's  : Judie Vivian, chief executive at ProMe...</td>\n",
       "      <td>The previous name of Ho Chi Minh City was Saigon.</td>\n",
       "    </tr>\n",
       "    <tr>\n",
       "      <th>4</th>\n",
       "      <td>1</td>\n",
       "      <td>A man is due in court later charged with the m...</td>\n",
       "      <td>Paul Stewart Hutchinson is accused of having s...</td>\n",
       "    </tr>\n",
       "    <tr>\n",
       "      <th>...</th>\n",
       "      <td>...</td>\n",
       "      <td>...</td>\n",
       "      <td>...</td>\n",
       "    </tr>\n",
       "    <tr>\n",
       "      <th>2485</th>\n",
       "      <td>1</td>\n",
       "      <td>There is none. They found as many weapons in t...</td>\n",
       "      <td>Weapons of mass destruction found in Iraq.</td>\n",
       "    </tr>\n",
       "    <tr>\n",
       "      <th>2486</th>\n",
       "      <td>0</td>\n",
       "      <td>It's really interesting: Dr. Eric Goosby, a pi...</td>\n",
       "      <td>Pepfar is committed to fighting AIDS.</td>\n",
       "    </tr>\n",
       "    <tr>\n",
       "      <th>2487</th>\n",
       "      <td>1</td>\n",
       "      <td>NASA's Saturn exploration spacecraft, Cassini ...</td>\n",
       "      <td>Titan is the fifteenth of Saturn's known satel...</td>\n",
       "    </tr>\n",
       "    <tr>\n",
       "      <th>2488</th>\n",
       "      <td>0</td>\n",
       "      <td>Brooklyn Borough Hall featured a Who's Who in ...</td>\n",
       "      <td>The Brooklyn Book Festival is held in Brooklyn...</td>\n",
       "    </tr>\n",
       "    <tr>\n",
       "      <th>2489</th>\n",
       "      <td>1</td>\n",
       "      <td>Turkey is unlikely to become involved in, or a...</td>\n",
       "      <td>U.S. to use Turkish military bases.</td>\n",
       "    </tr>\n",
       "  </tbody>\n",
       "</table>\n",
       "<p>2490 rows × 3 columns</p>\n",
       "</div>"
      ],
      "text/plain": [
       "      0                                                  1  \\\n",
       "0     1  No Weapons of Mass Destruction Found in Iraq Yet.   \n",
       "1     0  It's  : A place of sorrow, after Pope John Pau...   \n",
       "2     0  It's  : Herceptin was already approved to trea...   \n",
       "3     0  It's  : Judie Vivian, chief executive at ProMe...   \n",
       "4     1  A man is due in court later charged with the m...   \n",
       "...  ..                                                ...   \n",
       "2485  1  There is none. They found as many weapons in t...   \n",
       "2486  0  It's really interesting: Dr. Eric Goosby, a pi...   \n",
       "2487  1  NASA's Saturn exploration spacecraft, Cassini ...   \n",
       "2488  0  Brooklyn Borough Hall featured a Who's Who in ...   \n",
       "2489  1  Turkey is unlikely to become involved in, or a...   \n",
       "\n",
       "                                                      2  \n",
       "0            Weapons of Mass Destruction Found in Iraq.  \n",
       "1     Pope Benedict XVI is the new leader of the Rom...  \n",
       "2         Herceptin can be used to treat breast cancer.  \n",
       "3     The previous name of Ho Chi Minh City was Saigon.  \n",
       "4     Paul Stewart Hutchinson is accused of having s...  \n",
       "...                                                 ...  \n",
       "2485         Weapons of mass destruction found in Iraq.  \n",
       "2486              Pepfar is committed to fighting AIDS.  \n",
       "2487  Titan is the fifteenth of Saturn's known satel...  \n",
       "2488  The Brooklyn Book Festival is held in Brooklyn...  \n",
       "2489                U.S. to use Turkish military bases.  \n",
       "\n",
       "[2490 rows x 3 columns]"
      ]
     },
     "execution_count": 37,
     "metadata": {},
     "output_type": "execute_result"
    }
   ],
   "source": [
    "cleaned_dataset"
   ]
  }
 ],
 "metadata": {
  "kernelspec": {
   "display_name": "Python 3 (ipykernel)",
   "language": "python",
   "name": "python3"
  },
  "language_info": {
   "codemirror_mode": {
    "name": "ipython",
    "version": 3
   },
   "file_extension": ".py",
   "mimetype": "text/x-python",
   "name": "python",
   "nbconvert_exporter": "python",
   "pygments_lexer": "ipython3",
   "version": "3.10.18"
  }
 },
 "nbformat": 4,
 "nbformat_minor": 5
}
